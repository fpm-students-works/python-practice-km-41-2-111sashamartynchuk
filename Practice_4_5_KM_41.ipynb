{
 "cells": [
  {
   "cell_type": "markdown",
   "metadata": {
    "id": "1bRxWHr5e8kt"
   },
   "source": [
    "# **Курс \"Програмування на мові Python\"**"
   ]
  },
  {
   "cell_type": "markdown",
   "metadata": {
    "id": "buZUwUgFe-kx"
   },
   "source": [
    "## **Практичні зайняття №4-5**\n",
    "### Тема: \"Перші програми на Python. Введення та виведення даних. Інструкція if. Цикли. Робота зі списками\""
   ]
  },
  {
   "cell_type": "markdown",
   "metadata": {
    "id": "PUkxEn8EfAUe"
   },
   "source": [
    "### **Завдання 1 (1,5 бали)**\n",
    "\n"
   ]
  },
  {
   "cell_type": "markdown",
   "metadata": {
    "id": "M7jjwxAvfKa2"
   },
   "source": [
    "**Написати програму введення та виведення даних про одержувача листа (посилки) за стандартами Укрпошти.**\n",
    "\n",
    "1. Усі запити на введення даних повинні супроводжуватись відповідними підказками-поясненнями (бажано англійською мовою).\n",
    "\n",
    "2. Дані мають виводитись так, як показано нижче (з урахуванням кількості рядків та послідовності даних у кожному з них).\n",
    "\n",
    "3. Дані, виділені жирним шрифтом, повинні вводитись із клавіатури. Всього має бути 9 окремих команд введення даних\n",
    "\n",
    "4. Назви змінних повинні бути інформативними та оформленими відповідно до правил іменування змінних\n",
    "\n",
    "5. Додати 2 коментарі, що вказують на блоки введення та виведення даних.\n",
    "\n",
    "***Формат виведення даних:***\n",
    "\n",
    "(1) **Ім'я** (2) **Прізвище**\n",
    "\n",
    "(3) **Номер телефону**\n",
    "\n",
    "Str. (4) **Назва вулиці** (5) **Номер будинку**, ap. (6) **Номер квартири**, (7) **Місто**\n",
    "\n",
    "(8) **Індекс**\n",
    "\n",
    "(9) **Країна**\n",
    "\n",
    "***Приклад виведення:***\n",
    "\n",
    "*Lucas Diallo*\n",
    "\n",
    "*3221234567*\n",
    "\n",
    "*Str. Longue 3, ap. 5, Bruxelles*\n",
    "\n",
    "*1020*\n",
    "\n",
    "*Belgium*"
   ]
  },
  {
   "cell_type": "code",
   "metadata": {
    "ExecuteTime": {
     "end_time": "2024-10-08T20:41:05.691979Z",
     "start_time": "2024-10-08T20:40:24.400734Z"
    }
   },
   "source": [
    "print(\"Please enter your details to receive the newsletter\")\n",
    "\n",
    "# блок введення інформації\n",
    "\n",
    "first_name = input(\"enter name \")\n",
    "second_name = input(\"enter last name \")\n",
    "phone = input(\"enter phone number \")\n",
    "street = input(\"enter street name \")\n",
    "house = input(\"enter house number \")\n",
    "number = input(\"enter apartment number \")\n",
    "city = input(\"enter city \")\n",
    "index = input(\"enter index \")\n",
    "country = input(\"enter country \")\n",
    "\n",
    "# блок виведення інформації\n",
    "\n",
    "print(\"\\nRecipient's information:\")\n",
    "print(f\"{first_name} {second_name}\")\n",
    "print(phone)\n",
    "print(f\"Str, {street}, {house}, ap {number}, {city}\")\n",
    "print(index)\n",
    "print(country)"
   ],
   "outputs": [
    {
     "name": "stdout",
     "output_type": "stream",
     "text": [
      "Please enter your details to receive the newsletter\n",
      "\n",
      "Recipient's information:\n",
      "ыфыф mart\n",
      "09822\n",
      "Str, koval, 09, ap 209, zt\n",
      "1001\n",
      "uk\n"
     ]
    }
   ],
   "execution_count": 3
  },
  {
   "cell_type": "markdown",
   "metadata": {
    "id": "WmnpKrmPf689"
   },
   "source": [
    "### **Завдання 2 (1,5 бали)**"
   ]
  },
  {
   "cell_type": "markdown",
   "metadata": {
    "id": "4n4p_pz7gFKM"
   },
   "source": [
    "Таблиця містить магнітуду землетрусів за шкалою Ріхтера та дескриптори, що їй відповідають.\n",
    "\n",
    "Магнітуда | Дескриптор\n",
    "--- | ---\n",
    "Менше, ніж 2 | Micro\n",
    "Від 2 до менше ніж 3 | Very minor\n",
    "Від 3 до менше ніж 4 | Minor\n",
    "Від 4 до менше ніж 5 | Light\n",
    "Від 5 до менше ніж 6 | Moderate\n",
    "Від 6 до менше ніж 7 | Strong\n",
    "Від 7 до менше ніж 8 | Major\n",
    "Від 8 до менше ніж 10 | Great\n",
    "10 та більше | Meteoric\n",
    "\n",
    "Напишіть програму, яка буде зчитувати магнітуду, введену користувачем, та виводити відповідний дескриптор як частину змістовного повідомлення. Наприклад, якщо користувач вводить 5.5, ваша програма повинна показати, що землетрус з такою магнітудою є помірним (moderate)."
   ]
  },
  {
   "cell_type": "code",
   "metadata": {
    "id": "Nv66Jkkpf-sI",
    "ExecuteTime": {
     "end_time": "2024-10-08T20:40:08.961861Z",
     "start_time": "2024-10-08T20:39:58.602001Z"
    }
   },
   "source": [
    "# введення данних від користувача\n",
    "magnitude = float(input(\"Введіть магнітуду землетрусу за шкалою Ріхтера: \"))\n",
    "\n",
    "# визначення дескриптора \n",
    "if magnitude < 2.0:\n",
    "    descriptor = \"Micro\"\n",
    "elif 2.0 <= magnitude < 3.0:\n",
    "    descriptor = \"Very minor\"\n",
    "elif 3.0 <= magnitude < 4.0:\n",
    "    descriptor = \"Minor\"\n",
    "elif 4.0 <= magnitude < 5.0:\n",
    "    descriptor = \"Light\"\n",
    "elif 5.0 <= magnitude < 6.0:\n",
    "    descriptor = \"Moderate\"\n",
    "elif 6.0 <= magnitude < 7.0:\n",
    "    descriptor = \"Strong\"\n",
    "elif 7.0 <= magnitude < 8.0:\n",
    "    descriptor = \"Major\"\n",
    "elif 8.0 <= magnitude < 10.0:\n",
    "    descriptor = \"Great\"\n",
    "else:\n",
    "    descriptor = \"Meteoric\"\n",
    "\n",
    "# результат\n",
    "print(f\"Землетрус з магнітудою {magnitude} є {descriptor}.\")"
   ],
   "outputs": [
    {
     "name": "stdout",
     "output_type": "stream",
     "text": [
      "Землетрус з магнітудою 5.0 є Moderate.\n"
     ]
    }
   ],
   "execution_count": 2
  },
  {
   "cell_type": "markdown",
   "metadata": {
    "id": "X8fC_GM_nMRi"
   },
   "source": [
    "### **Завдання 3 (бонусне, 1 бал)**"
   ]
  },
  {
   "cell_type": "markdown",
   "metadata": {
    "id": "b593txPwotgN"
   },
   "source": [
    "Часто говорять, що один календарний рік еквівалентний 7 рокам для собаки. Однак таке просте перетворення не враховує того, що собаки досягають повноліття приблизно у 2 роки. Тому деякі люди вважать, що краще рахувати кожен з перших двох календарних років як 10,5 років для собаки, а потім рахувати кожен наступний календарний рік як 4 роки для собаки.\n",
    "\n",
    "Напишіть програму, яка конвертує календарні роки у \"собачі\", як було показано в попередньому абзаці. Переконайтесь, що ваша програма працює правильно, конвертуючи перші два календарні роки та всі подальші. Ваша програма також повинна виводити повідомлення про помилку, якщо користувач введе від'ємне число."
   ]
  },
  {
   "cell_type": "code",
   "metadata": {
    "id": "PA_E_H0Zosu0",
    "ExecuteTime": {
     "end_time": "2024-10-08T20:57:06.132607Z",
     "start_time": "2024-10-08T20:57:02.296744Z"
    }
   },
   "source": [
    "# введення даних від користувача\n",
    "print(\"Переведення віку з календарного на собачий\")\n",
    "human_years = float(input(\"Введіть кількість календарних років: \"))\n",
    "\n",
    "# пкревірка \n",
    "if human_years < 0:\n",
    "    print(\"ви ввели відємне число\")\n",
    "else:\n",
    "    # розрaхунок собачих років\n",
    "    if human_years <= 2:\n",
    "        dog_years = human_years * 10.5\n",
    "    else:\n",
    "        dog_years = 2 * 10.5 + (human_years - 2) * 4\n",
    "            \n",
    "    # результат\n",
    "    print(f\"{human_years} календарних років дорівнюють {dog_years} собачих років.\")\n",
    "\n"
   ],
   "outputs": [
    {
     "name": "stdout",
     "output_type": "stream",
     "text": [
      "Переведення віку з календарного на собачий\n",
      "17.0 календарних років дорівнюють 81.0 собачих років.\n"
     ]
    }
   ],
   "execution_count": 8
  },
  {
   "cell_type": "markdown",
   "metadata": {},
   "source": [
    "### **Завдання 4 (1,5 бали)**"
   ]
  },
  {
   "cell_type": "markdown",
   "metadata": {},
   "source": [
    "Керівництво будівельної компанії вирішило підняти заробітні плати всім своїм працівникам на 30%. В залежності від спеціалізації та стажу працівники мають різну заробітну плату. Для підготовки звіту необхідно розрахувати нову заробітну плату для працівників компанії, а також суму індексації.\n",
    "\n",
    "Написати програму, яка буде генерувати таблицю для цього звіту. Початкова заробітна плата працівників подана у списку salary_list (у тисячах гривень).\n",
    "\n",
    "1. Для підрахунку невідомих значень та їх виведення повинен використовуватись цикл.\n",
    "\n",
    "2. Зарплата після індексації та сума індексації для працівників різних категорій повинні зберігатись у двох окремих списках. Порядок значень у кожному з нових списків повинен відповідати порядку значень у списку salary_list.\n",
    "\n",
    "3. Кожне підраховане числове значення має бути округлене до сотих. Для цього слід використати функцію round(). Приклад застосування цієї функції:\n",
    "\n",
    "```\n",
    "value_new = round(2.3741, 2)\n",
    "print(value_new)\n",
    "```\n",
    "\n",
    "4. Дані повинні виводитись у вигляді:\n",
    "\n",
    "**Salary table:**\n",
    "\n",
    "**7.3 9.49 2.19**\n",
    "\n",
    "**8.5 11.05 2.55**\n",
    "\n",
    "**...**\n",
    "\n",
    "salary_list = [7.3, 8.5, 11, 12.7, 15.2, 21.12, 27.35]"
   ]
  },
  {
   "cell_type": "code",
   "metadata": {
    "ExecuteTime": {
     "end_time": "2024-10-09T09:59:46.224651Z",
     "start_time": "2024-10-09T09:59:46.164574Z"
    }
   },
   "source": [
    "salary_list = [7.3, 8.5, 11, 12.7, 15.2, 21.12, 27.35]\n",
    "\n",
    "print(\"Salary table\")\n",
    "for salary in salary_list:\n",
    "  increase = salary*0.30\n",
    "  print(round(salary, 2), round(salary+increase, 2), round(increase, 2))"
   ],
   "outputs": [
    {
     "name": "stdout",
     "output_type": "stream",
     "text": [
      "Salary table\n",
      "7.3 9.49 2.19\n",
      "8.5 11.05 2.55\n",
      "11 14.3 3.3\n",
      "12.7 16.51 3.81\n",
      "15.2 19.76 4.56\n",
      "21.12 27.46 6.34\n",
      "27.35 35.55 8.21\n"
     ]
    }
   ],
   "execution_count": 12
  },
  {
   "cell_type": "markdown",
   "metadata": {},
   "source": [
    "### **Завдання 5 (1,5 бали)**"
   ]
  },
  {
   "cell_type": "markdown",
   "metadata": {},
   "source": [
    "Перелічуючи деякі предмети у тексті, ми ставимо між ними коми. В англійській мові слово and зазвичай ставлять між останнім та передостаннім словом у переліку (за виключенням випадку, коли у списку всього одне слово). Розглянемо 4 приклади:\n",
    "\n",
    "**apples**\n",
    "\n",
    "**apples and oranges**\n",
    "\n",
    "**apples, oranges and bananas**\n",
    "\n",
    "**apples, oranges, bananas and lemons**\n",
    "\n",
    "Напишіть програму, яка:\n",
    "\n",
    "1. отримує на вхід перелік деяких предметів, які користувач вводить з клавіатури, та записує їх у список у вигляді окремих елементів;\n",
    "\n",
    "2. виводить ці предмети у тій самій послідовності, в якій вони були введені, розставляючи коми та слово and так, як показано у прикладі."
   ]
  },
  {
   "cell_type": "code",
   "metadata": {
    "ExecuteTime": {
     "end_time": "2024-10-08T21:56:49.887148Z",
     "start_time": "2024-10-08T21:56:40.872083Z"
    }
   },
   "source": [
    "words = input(\"Введіть ваші слова через пробіл: \").split()\n",
    "\n",
    "for word in words[:-1]:\n",
    "  print(word + \", \", end=\"\")\n",
    "\n",
    "print(\"and\", word[-1])"
   ],
   "outputs": [
    {
     "name": "stdout",
     "output_type": "stream",
     "text": [
      "hrhrb, rhrurbrurt, rureoierbrinb, and b\n"
     ]
    }
   ],
   "execution_count": 11
  }
 ],
 "metadata": {
  "colab": {
   "collapsed_sections": [],
   "name": "Pranctice_3_KM-01_<name>.ipynb",
   "provenance": []
  },
  "kernelspec": {
   "display_name": "Python 3.10.2 ('tags_scraping': venv)",
   "language": "python",
   "name": "python3"
  },
  "language_info": {
   "name": "python",
   "version": "3.10.2"
  },
  "vscode": {
   "interpreter": {
    "hash": "71c7f1ec1d8cacaccd285cd22952b58f348b42ff78b3ec0871da3b76186664ce"
   }
  }
 },
 "nbformat": 4,
 "nbformat_minor": 2
}
