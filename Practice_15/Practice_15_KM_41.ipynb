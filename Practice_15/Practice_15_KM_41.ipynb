{
 "cells": [
  {
   "cell_type": "markdown",
   "metadata": {
    "id": "FMqboNwO4rVs"
   },
   "source": [
    "# **Курс \"Програмування на мові Python\"**"
   ]
  },
  {
   "cell_type": "markdown",
   "metadata": {
    "id": "A2T6MigL5Z06"
   },
   "source": [
    "## **Практичне зайняття №13**\n",
    "\n",
    "### Тема: \"Робота з файлами\""
   ]
  },
  {
   "cell_type": "markdown",
   "metadata": {
    "id": "cfCdgK2zXm7e"
   },
   "source": [
    "### **Завдання 1 (1,5 бали)**\n",
    "\n",
    "У 1939 році друком вийшов роман американського письменика Ернеста Вінсента Райта \"Ґетсбі\". Особливу увагу публіки він здобув через те, що письменник жодного разу не використав у романі літеру \"e\" (роман складається з більше ніж 50,000 слів), яка є найбільш вживаною літерою в англійській мові.\n",
    "\n",
    "Порахуйте кількість входжень кожної літери у текст роману. Виведіть список літер англійського алфавіту, а також інформацію про те, скільки відсотків від усіх літер тексту складає кожна літера алфавіту.\n",
    "\n",
    "Зауваження:\n",
    "\n",
    "1. Програма має ігнорувати будь-які символи, окрім літер.\n",
    "\n",
    "2. Переведіть усі літери у верхній або у нижній регістр.\n",
    "\n",
    "3. Під час виведення відсортуйте літери у порядку зменшення їхнього відсотка. Літера \"e\" має стояти на останньому місці у цьому списку (хоча кілька літер e там все ж таки зустрічається).\n",
    "\n",
    "4. Виведіть перші 5 та останні 5 літер відсортованого списку разом з відсотковими значеннями, що їм відповідають. Відсотки округліть до тисячних."
   ]
  },
  {
   "cell_type": "code",
   "metadata": {
    "id": "u4-fHJJ6U462",
    "tags": [
     "outputPrepend"
    ],
    "ExecuteTime": {
     "end_time": "2024-12-17T20:17:11.737247Z",
     "start_time": "2024-12-17T20:17:11.691491Z"
    }
   },
   "source": [
    "from collections import Counter\n",
    "import string\n",
    "\n",
    "file_path = 'gadsby.txt'\n",
    "\n",
    "def count_letters(file_path):\n",
    "    with open(file_path, 'r', encoding='utf-8') as file:\n",
    "        text = file.read()\n",
    "\n",
    "    text = text.lower()\n",
    "    text = ''.join(char for char in text if char in string.ascii_lowercase)\n",
    "\n",
    "    letter_counts = Counter(text)\n",
    "    total_letters = sum(letter_counts.values())\n",
    "\n",
    "    letter_percentage = {\n",
    "        letter: (count / total_letters) * 100 for letter, count in letter_counts.items()\n",
    "    }\n",
    "\n",
    "    sorted_letters = sorted(\n",
    "        letter_percentage.items(), key=lambda x: (-x[1], x[0]) if x[0] != 'e' else (float('inf'), x[0])\n",
    "    )\n",
    "    \n",
    "    return sorted_letters, letter_counts\n",
    "\n",
    "def display_results(sorted_letters, letter_counts):\n",
    "    print(\"\\nпідсумковий список літер з відсотками:\")\n",
    "    for letter, percentage in sorted_letters:\n",
    "        print(f\"Літера: {letter}, Кількість: {letter_counts[letter]}, Відсоток: {percentage:.3f}%\")\n",
    "\n",
    "    print(\"\\nперші 5 літер за відсотком:\")\n",
    "    for letter, percentage in sorted_letters[:5]:\n",
    "        print(f\"{letter}: {percentage:.3f}%\")\n",
    "\n",
    "    print(\"\\nостанні 5 літер за відсотком:\")\n",
    "    for letter, percentage in sorted_letters[-5:]:\n",
    "        print(f\"{letter}: {percentage:.3f}%\")\n",
    "\n",
    "sorted_letters, letter_counts = count_letters(file_path)\n",
    "display_results(sorted_letters, letter_counts)\n",
    "   \n"
   ],
   "outputs": [
    {
     "name": "stdout",
     "output_type": "stream",
     "text": [
      "\n",
      "Підсумковий список літер з відсотками:\n",
      "Літера: a, Кількість: 23231, Відсоток: 10.952%\n",
      "Літера: o, Кількість: 22100, Відсоток: 10.419%\n",
      "Літера: i, Кількість: 18720, Відсоток: 8.825%\n",
      "Літера: n, Кількість: 18236, Відсоток: 8.597%\n",
      "Літера: t, Кількість: 18017, Відсоток: 8.494%\n",
      "Літера: s, Кількість: 14779, Відсоток: 6.967%\n",
      "Літера: l, Кількість: 11282, Відсоток: 5.319%\n",
      "Літера: h, Кількість: 10412, Відсоток: 4.909%\n",
      "Літера: r, Кількість: 10092, Відсоток: 4.758%\n",
      "Літера: u, Кількість: 8820, Відсоток: 4.158%\n",
      "Літера: d, Кількість: 8734, Відсоток: 4.118%\n",
      "Літера: g, Кількість: 7648, Відсоток: 3.606%\n",
      "Літера: y, Кількість: 6735, Відсоток: 3.175%\n",
      "Літера: w, Кількість: 5934, Відсоток: 2.798%\n",
      "Літера: c, Кількість: 5644, Відсоток: 2.661%\n",
      "Літера: f, Кількість: 4565, Відсоток: 2.152%\n",
      "Літера: b, Кількість: 4543, Відсоток: 2.142%\n",
      "Літера: m, Кількість: 4403, Відсоток: 2.076%\n",
      "Літера: p, Кількість: 4039, Відсоток: 1.904%\n",
      "Літера: k, Кількість: 2499, Відсоток: 1.178%\n",
      "Літера: v, Кількість: 686, Відсоток: 0.323%\n",
      "Літера: j, Кількість: 487, Відсоток: 0.230%\n",
      "Літера: z, Кількість: 228, Відсоток: 0.107%\n",
      "Літера: x, Кількість: 168, Відсоток: 0.079%\n",
      "Літера: q, Кількість: 109, Відсоток: 0.051%\n",
      "Літера: e, Кількість: 4, Відсоток: 0.002%\n",
      "\n",
      "Перші 5 літер за відсотком:\n",
      "a: 10.952%\n",
      "o: 10.419%\n",
      "i: 8.825%\n",
      "n: 8.597%\n",
      "t: 8.494%\n",
      "\n",
      "Останні 5 літер за відсотком:\n",
      "j: 0.230%\n",
      "z: 0.107%\n",
      "x: 0.079%\n",
      "q: 0.051%\n",
      "e: 0.002%\n"
     ]
    }
   ],
   "execution_count": 11
  },
  {
   "cell_type": "markdown",
   "metadata": {
    "id": "A34oz70eU463"
   },
   "source": [
    "### **Завдання 2 (1,5 бали)**\n",
    "\n",
    "Архів archive.zip містить 140 txt-файлів, в яких збережено інфорамцію про те, якими іменами називали дітей у США в період з 1880 по 2019 рік.\n",
    "\n",
    "Структура рядка кожного файлу така:\n",
    "\n",
    "*name,sex,number_of_occurrences*\n",
    "\n",
    "Напишіть програму, яка зчитуватиме кожен файл та визначатиме окремо чоловічі, окремо жіночі імена, що були найпопулярнішими хоча б в один з років. Далі програма повинна підраховувати, скільки разів кожне з цих імен ставало найпопулярнишим, та виводити ранжовані списки чоловічіх та жіночих імен у вигляді:\n",
    "\n",
    "```\n",
    "Michael 44\n",
    "John 44\n",
    "Robert 17\n",
    "...\n",
    "\n",
    "Mary 76\n",
    "Jennifer 15\n",
    "Emily 12\n",
    "...\n",
    "```"
   ]
  },
  {
   "cell_type": "code",
   "metadata": {
    "ExecuteTime": {
     "end_time": "2024-12-17T20:30:35.054757Z",
     "start_time": "2024-12-17T20:30:33.850116Z"
    }
   },
   "source": [
    "\n",
    "import zipfile\n",
    "from collections import defaultdict\n",
    "\n",
    "archive_path = 'archive.zip'\n",
    "\n",
    "def process_files_in_archive(archive_path):\n",
    "    male_names = defaultdict(int)\n",
    "    female_names = defaultdict(int)\n",
    "\n",
    "    with zipfile.ZipFile(archive_path, 'r') as archive:\n",
    "        for file_name in archive.namelist():\n",
    "            if file_name.endswith('.txt'):\n",
    "                with archive.open(file_name) as file:\n",
    "                    for line in file:\n",
    "                        name, sex, count = line.decode('utf-8').strip().split(',')\n",
    "                        count = int(count)\n",
    "                        \n",
    "                        if sex == 'M':\n",
    "                            if count > male_names.get(file_name, (0, None))[0]:\n",
    "                                male_names[file_name] = (count, name)\n",
    "                        elif sex == 'F':\n",
    "                            if count > female_names.get(file_name, (0, None))[0]:\n",
    "                                female_names[file_name] = (count, name)\n",
    "\n",
    "    male_popular = defaultdict(int)\n",
    "    female_popular = defaultdict(int)\n",
    "\n",
    "    for year_file, (count, name) in male_names.items():\n",
    "        male_popular[name] += 1\n",
    "    \n",
    "    for year_file, (count, name) in female_names.items():\n",
    "        female_popular[name] += 1\n",
    "\n",
    "    return male_popular, female_popular\n",
    "\n",
    "def display_results(male_popular, female_popular):\n",
    "    print(\"\\nнайпопулярніші чоловічі імена:\")\n",
    "    for name, count in sorted(male_popular.items(), key=lambda x: -x[1]):\n",
    "        print(f\"{name} {count}\")\n",
    "\n",
    "    print(\"\\nеайпопулярніші жіночі імена:\")\n",
    "    for name, count in sorted(female_popular.items(), key=lambda x: -x[1]):\n",
    "        print(f\"{name} {count}\")\n",
    "\n",
    "male_popular, female_popular = process_files_in_archive(archive_path)\n",
    "display_results(male_popular, female_popular)"
   ],
   "outputs": [
    {
     "name": "stdout",
     "output_type": "stream",
     "text": [
      "\n",
      "найпопулярніші чоловічі імена:\n",
      "John 44\n",
      "Michael 44\n",
      "Robert 17\n",
      "Jacob 14\n",
      "James 13\n",
      "Noah 4\n",
      "Liam 3\n",
      "David 1\n",
      "\n",
      "еайпопулярніші жіночі імена:\n",
      "Mary 76\n",
      "Jennifer 15\n",
      "Emily 12\n",
      "Jessica 9\n",
      "Lisa 8\n",
      "Linda 6\n",
      "Emma 6\n",
      "Sophia 3\n",
      "Ashley 2\n",
      "Isabella 2\n",
      "Olivia 1\n"
     ]
    }
   ],
   "execution_count": 20
  }
 ],
 "metadata": {
  "colab": {
   "collapsed_sections": [],
   "name": "Practice_14_KM_01.ipynb",
   "provenance": []
  },
  "kernelspec": {
   "display_name": "Python 3 (ipykernel)",
   "name": "python3",
   "language": "python"
  },
  "language_info": {
   "codemirror_mode": {
    "name": "ipython",
    "version": 3
   },
   "file_extension": ".py",
   "mimetype": "text/x-python",
   "name": "python",
   "nbconvert_exporter": "python",
   "pygments_lexer": "ipython3",
   "version": "3.8.2"
  }
 },
 "nbformat": 4,
 "nbformat_minor": 0
}
