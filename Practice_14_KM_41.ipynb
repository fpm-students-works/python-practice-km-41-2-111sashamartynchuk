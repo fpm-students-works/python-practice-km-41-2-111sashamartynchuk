{
 "cells": [
  {
   "cell_type": "markdown",
   "metadata": {
    "id": "FMqboNwO4rVs"
   },
   "source": [
    "# **Курс \"Програмування на мові Python\"**"
   ]
  },
  {
   "cell_type": "markdown",
   "metadata": {
    "id": "A2T6MigL5Z06"
   },
   "source": [
    "## **Практичне зайняття №16**\n",
    "\n",
    "### Тема: \"Декоратори\""
   ]
  },
  {
   "cell_type": "markdown",
   "metadata": {},
   "source": [
    "### **Завдання 1 (3 бали)**\n",
    "\n",
    "Реалізуйте підрахунок площі трикутника з використанням декоратора, який перевірятиме можливість побудови трикутника з трьох введених користувачем сторін.\n",
    "\n",
    "1. Напишіть функцію area_calculation, яка підраховуватиме площу трикутника за трьома сторонами. Для підрахунку можете скористатись формулою Герона.\n",
    "\n",
    "2. Напишіть функцію check, яка перевірятиме правильність введених користувачем значень (значення мають бути додатними числами, не обов'язково цілими).\n",
    "\n",
    "3. Створіть декоратор triangle_ineq, який перевірятиме виконання нерівності трикутрика для трьох заданих користувачем сторін. Навісьте декоратор triangle_ineq на функція area_calculation та перевірте правильність роботи програми."
   ]
  },
  {
   "cell_type": "code",
   "metadata": {
    "ExecuteTime": {
     "end_time": "2024-12-10T20:49:21.628158Z",
     "start_time": "2024-12-10T20:48:59.913919Z"
    }
   },
   "source": [
    "from math import sqrt\n",
    "\n",
    "def triangle_ineq(func):\n",
    "    def wrapper(a, b, c):\n",
    "        if a + b > c and a + c > b and b + c > a:\n",
    "            return func(a, b, c)\n",
    "        else:\n",
    "            return \"трикутник із такими сторонами неможливо побудувати.\"\n",
    "    return wrapper\n",
    "\n",
    "\n",
    "def check(a, b, c):\n",
    "    if all(isinstance(x, (int, float)) and x > 0 for x in (a, b, c)):\n",
    "        return True\n",
    "    return False\n",
    "\n",
    "\n",
    "@triangle_ineq\n",
    "def area_calculation(a, b, c):\n",
    "    s = (a + b + c) / 2  \n",
    "    area = sqrt(s * (s - a) * (s - b) * (s - c))  \n",
    "    return f\"Площа трикутника: {area:.2f}\"\n",
    "\n",
    "def safe_input(prompt):\n",
    "    while True:\n",
    "        try:\n",
    "            value = float(input(prompt))\n",
    "            if value > 0:\n",
    "                return value\n",
    "            else:\n",
    "                print(\"сторона має мати додатнє значення \")\n",
    "        except ValueError:\n",
    "            print(\"введіть число.\")\n",
    "if __name__ == \"__main__\":\n",
    "    print(\"Обчислення площі трикутника за трьома сторонами.\")\n",
    "    a = safe_input(\"введіть сторону a: \")\n",
    "    b = safe_input(\"введіть сторону b: \")\n",
    "    c = safe_input(\"введіть сторону c: \")\n",
    "    print(area_calculation(a, b, c))\n"
   ],
   "outputs": [
    {
     "name": "stdout",
     "output_type": "stream",
     "text": [
      "Обчислення площі трикутника за трьома сторонами.\n",
      "Помилка: потрібно вводити тільки числа. Спробуйте ще раз.\n",
      "Помилка: потрібно вводити тільки числа. Спробуйте ще раз.\n",
      "Сторона має бути додатнім числом. \n",
      "Площа трикутника: 27.71\n"
     ]
    }
   ],
   "execution_count": 1
  }
 ],
 "metadata": {
  "colab": {
   "collapsed_sections": [],
   "name": "Practice_10-11_KM_01_.ipynb",
   "provenance": []
  },
  "kernelspec": {
   "display_name": "Python 3 (ipykernel)",
   "name": "python3",
   "language": "python"
  }
 },
 "nbformat": 4,
 "nbformat_minor": 0
}
