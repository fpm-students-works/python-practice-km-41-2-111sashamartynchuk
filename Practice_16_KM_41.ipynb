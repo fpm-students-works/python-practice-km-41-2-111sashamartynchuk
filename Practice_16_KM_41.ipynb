{
 "cells": [
  {
   "cell_type": "markdown",
   "metadata": {
    "id": "FMqboNwO4rVs"
   },
   "source": [
    "# **Курс \"Програмування на мові Python\"**"
   ]
  },
  {
   "cell_type": "markdown",
   "metadata": {
    "id": "A2T6MigL5Z06"
   },
   "source": [
    "## **Практичне зайняття №14**\n",
    "\n",
    "### Тема: \"Робота зі спеціальними форматами файлів\""
   ]
  },
  {
   "cell_type": "markdown",
   "metadata": {
    "id": "A34oz70eU463"
   },
   "source": [
    "### **Завдання 1 (1,5 бали)**\n",
    "\n",
    "Створіть CSV-файл, що буде містити від 5 до 10 пісень (творів) вашого улюбленого музиканта. Назва файлу - ім'я музиканта (композитора) або назва гурту.\n",
    "\n",
    "1. Обов'язково додайте до файлу рядок з назвами двох колонок (Song, Year) або (Composition, Year).\n",
    "\n",
    "2. Після запису файлу роздрукуйте назву файлу та усі наявні у файлі рядки (включно із заголовками).\n",
    "\n",
    "3. Для запису та зчитування рядків скористайтесь функціями csv.DictWriter() та csv.DictReader()."
   ]
  },
  {
   "cell_type": "code",
   "metadata": {
    "id": "MEJIrG1GU463",
    "jupyter": {
     "is_executing": true
    }
   },
   "source": [
    "import csv\n",
    "\n",
    "data = [\n",
    "    {'song': 'Cult of Dionysus', 'year': '2007'},\n",
    "    {'song': 'Obsessed with You', 'year': '2010'},\n",
    "    {'song': 'The Queen of White Lies', 'year': '2010'},\n",
    "    {'song': 'Cosmicandy', 'year': '2006'},\n",
    "    {'song': 'Digital Love', 'year': '2010'},\n",
    "]\n",
    "file_name = \"The_Orion_Experience.csv\"\n",
    "\n",
    "with open(file_name, mode=\"w\", newline='', encoding=\"utf-8\") as csvfile:\n",
    "    fieldnames = ['song', 'year']\n",
    "    writer = csv.DictWriter(csvfile, fieldnames=fieldnames)\n",
    "    writer.writeheader()\n",
    "    writer.writerows(data)\n",
    "\n",
    "with open(file_name, mode=\"r\", encoding=\"utf-8\") as file:\n",
    "    reader = csv.DictReader(file)\n",
    "    print(f\"File Name: {file_name}\")\n",
    "    for row in reader:\n",
    "        print(row)"
   ],
   "outputs": [],
   "execution_count": null
  },
  {
   "cell_type": "markdown",
   "metadata": {
    "id": "Jb-eSBsWU464"
   },
   "source": [
    "### **Завдання 2 (1,5 бали)**\n",
    "\n",
    "COCO Dataset - набір фотографій та анотацій до них. Його дуже часто використовують для тренування класифікаторів, призначених для розпізнавання об'єктів та визначення ключових точок на зображеннях.\n",
    "\n",
    "Завантажте файли з описом фотографій COCO Dataset за посиланням: [COCO Dataset](http://images.cocodataset.org/annotations/image_info_test2017.zip).\n",
    "\n",
    "Відкрийте файл image_info_test-dev2017.json. Інформація про фотографії з бази COCO міститься у полі \"images\". Інформація про категорії, на які розділені всі фотографії, міститься у полі \"categories\".\n",
    "\n",
    "1. Визначте кількість фотографій, інформацію про які можна знайти у цьому файлі (кількість елементів, що відповідають ключу \"images\").\n",
    "\n",
    "2. Визначте кількість наявних категорій (кількість елементів, що відповідають ключу \"categories\").\n",
    "\n",
    "3. Виведіть посилання на фотографію 000000000001.jpg (\"coco_url\"). Також виведіть висоту цієї фотографії (\"height\"), ширину (\"width\") та її ідентифікатор (\"id\").\n",
    "\n",
    "4. Виведіть назву фотографії з набільшим номером.\n",
    "\n",
    "Опис структури JSON-файлу для набору фотографій COCO можна знайти за посиланням: [Data format](https://cocodataset.org/#format-data).\n",
    "\n",
    "Щоб перевірити правильність результатів, у VS Code встановіть розширення JSON та відкрийте файл image_info_test-dev2017.json. Розширення автоматично визначає кількість елементів у кожному полі."
   ]
  },
  {
   "cell_type": "code",
   "metadata": {
    "jupyter": {
     "is_executing": true
    }
   },
   "source": [
    "import json\n",
    "file_path = \"image_info_test2017.json\"  \n",
    "with open(file_path, 'r') as file:\n",
    "    data = json.load(file)\n",
    "\n",
    "\n",
    "images = data[\"images\"]\n",
    "num_images = len(images)\n",
    "\n",
    "if \"categories\" in data:\n",
    "    categories = data[\"categories\"]\n",
    "    num_categories = len(categories)\n",
    "else:\n",
    "    num_categories = 0\n",
    "\n",
    "photo_info = None\n",
    "for image in images:\n",
    "    if image[\"file_name\"] == \"000000000001.jpg\":\n",
    "        photo_info = image\n",
    "        break\n",
    "\n",
    "if photo_info:\n",
    "    photo_coco_url = photo_info[\"coco_url\"]\n",
    "    photo_height = photo_info[\"height\"]\n",
    "    photo_width = photo_info[\"width\"]\n",
    "    photo_id = photo_info[\"id\"]\n",
    "else:\n",
    "    photo_coco_url = None\n",
    "    photo_height = None\n",
    "    photo_width = None\n",
    "    photo_id = None\n",
    "\n",
    "max_photo = None\n",
    "max_photo_number = -1\n",
    "\n",
    "for image in images:\n",
    "    file_number = int(image[\"file_name\"].split('.')[0])\n",
    "    if file_number > max_photo_number:\n",
    "        max_photo_number = file_number\n",
    "        max_photo = image\n",
    "\n",
    "if max_photo:\n",
    "    max_photo_name = max_photo[\"file_name\"]\n",
    "else:\n",
    "    max_photo_name = None\n",
    "\n",
    "print(f\"Number of images: {num_images}\")\n",
    "print(f\"Number of categories: {num_categories}\")\n",
    "\n",
    "if photo_info:\n",
    "    print(\"Information for photo '000000000001.jpg':\")\n",
    "    print(f\"  Coco URL: {photo_coco_url}\")\n",
    "    print(f\"  Height: {photo_height}\")\n",
    "    print(f\"  Width: {photo_width}\")\n",
    "    print(f\"  ID: {photo_id}\")\n",
    "else:\n",
    "    print(\"Photo '000000000001.jpg' not found.\")\n",
    "\n",
    "if max_photo_name:\n",
    "    print(f\"Photo with the highest number: {max_photo_name}\")\n",
    "else:\n",
    "    print(\"No photos found.\")"
   ],
   "outputs": [],
   "execution_count": null
  }
 ],
 "metadata": {
  "colab": {
   "collapsed_sections": [],
   "name": "Practice_14_KM_01.ipynb",
   "provenance": []
  },
  "kernelspec": {
   "display_name": "Python 3",
   "name": "python3"
  },
  "language_info": {
   "codemirror_mode": {
    "name": "ipython",
    "version": 3
   },
   "file_extension": ".py",
   "mimetype": "text/x-python",
   "name": "python",
   "nbconvert_exporter": "python",
   "pygments_lexer": "ipython3",
   "version": "3.10.0"
  }
 },
 "nbformat": 4,
 "nbformat_minor": 0
}
