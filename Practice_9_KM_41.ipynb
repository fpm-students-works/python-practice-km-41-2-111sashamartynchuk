{
 "cells": [
  {
   "cell_type": "markdown",
   "metadata": {
    "id": "FMqboNwO4rVs"
   },
   "source": [
    "# **Курс \"Програмування на мові Python\"**"
   ]
  },
  {
   "cell_type": "markdown",
   "metadata": {
    "id": "A2T6MigL5Z06"
   },
   "source": [
    "## **Практичне зайняття №9**\n",
    "\n",
    "### Тема: \"Робота з функціями. Локальні та глобальні змінні\""
   ]
  },
  {
   "cell_type": "markdown",
   "metadata": {
    "id": "cfCdgK2zXm7e"
   },
   "source": [
    "### **Завдання 1 (3 бали)**\n",
    "\n",
    "**Підрахувати визначник матриці, використовуючи правило перестановок.**\n",
    "\n",
    "Функція random_matrix() призначена для створення квадратної матриці випадкових чисел. Її змінювати непотрібно.\n",
    "\n",
    "Приклад використання методу permutations() для створення списку перестановок також подається у комірці з кодом.\n",
    "\n",
    "1) Створити 3 функції: функцію створення списку перестановок, функцію підрахунку добутків та функцію підрахунку загальної суми.\n",
    "\n",
    "2) Кожна функція має супроводжуватись рядком документації, що буде коротко описувати її призначення.\n",
    "\n",
    "3) Розмірність квадратної матриці має вводитись користувачем з клавіатури. Підрахунки виконувати лише в тому разі, якщо користувач введе ціле додатне число.\n",
    "\n",
    "4) Загальний результат повинен підраховуватись за допомогою композиції функцій.\n",
    "\n",
    "За бажанням можна перевірити правильність роботи програми за допомогою функції np.linalg.det(a)."
   ]
  },
  {
   "cell_type": "code",
   "metadata": {
    "id": "ifNX2M7LXm7f",
    "ExecuteTime": {
     "end_time": "2024-11-03T21:32:33.578065Z",
     "start_time": "2024-11-03T21:32:33.550821Z"
    }
   },
   "source": [
    "import numpy as np\n",
    "import itertools\n",
    "\n",
    "def random_matrix(dim):\n",
    "    \"\"\"\n",
    "    The function generates dim x dim array of integers\n",
    "    between 0 and 10.\n",
    "    \"\"\"\n",
    "    matrix = np.random.randint(10, size = (dim, dim))\n",
    "    return matrix\n",
    "\n",
    "#Example of using permutations() method\n",
    "t = list(itertools.permutations('123', 3))\n",
    "\n",
    "\n",
    "def type_check(input_text):\n",
    "    \"\"\"\n",
    "    Функція, що перевіряє тип введеної змінної\n",
    "    \"\"\"\n",
    "    while True:\n",
    "        user_input = input(\"{}\".format(input_text))\n",
    "        try:\n",
    "            user_input = int(user_input)\n",
    "            if user_input <= 0:\n",
    "                print(\"Число має бути додатнiм!\")\n",
    "                continue\n",
    "            break\n",
    "        except ValueError:\n",
    "            print(\"Необхiдно ввести ціле число! \\n\")\n",
    "    return user_input\n",
    "\n",
    "\n",
    "def all_perms(elements):\n",
    "    \"\"\"\n",
    "   Функція, яка створює список усіх можливих перестановок чисел у діапазоні від одиниці до n\n",
    "    \"\"\"\n",
    "    if len(elements) <= 1:\n",
    "        yield elements\n",
    "    else:\n",
    "        for perm in all_perms(elements[1:]):\n",
    "            for i in range(len(elements)):\n",
    "                yield perm[:i] + elements[0:1] + perm[i:]\n",
    "\n",
    "\n",
    "def items_calculating(matrix):\n",
    "    \"\"\"\n",
    "    Функція, яка створює список з усіма елементами визначника\n",
    "    \"\"\"\n",
    "    items_list = []\n",
    "    for j in list(all_perms(list(range(len(matrix))))):\n",
    "        a = 1\n",
    "        count_of_recursions = 0\n",
    "        for i in range(len(j)):\n",
    "            a *= matrix[i][j[i]]\n",
    "            for k in range(len(j)):\n",
    "                if k > i and j[k] < j[i]:\n",
    "                    count_of_recursions += 1\n",
    "        if count_of_recursions % 2 == 0:\n",
    "            items_list.append(a)\n",
    "        else:\n",
    "            items_list.append(-a)\n",
    "    return items_list\n",
    "\n",
    "\n",
    "def items_sum(items_list):\n",
    "    \"\"\"\n",
    "    Функція, яка обчислює суму елементів визначника\n",
    "    \"\"\"\n",
    "    return sum(items_list)\n",
    "\n",
    "\n",
    "def determinant(matrix):\n",
    "    \"\"\"\n",
    "   Функція, яка обчислює визначник матриці\n",
    "    \"\"\"\n",
    "    return items_sum(items_calculating(matrix))\n",
    "\n",
    "\n",
    "while True:\n",
    "    a = random_matrix(type_check(\"введіть вхідну розмірність матриці: \"))\n",
    "    print(\"\\nMatrix = \\n\\n\" + \" \" + str(a)[1:-1])\n",
    "    print(\"\\ndet = \" + str(determinant(a)))\n",
    "\n",
    "\n"
   ],
   "outputs": [
    {
     "ename": "ModuleNotFoundError",
     "evalue": "No module named 'numpy'",
     "output_type": "error",
     "traceback": [
      "\u001B[0;31m---------------------------------------------------------------------------\u001B[0m",
      "\u001B[0;31mModuleNotFoundError\u001B[0m                       Traceback (most recent call last)",
      "Cell \u001B[0;32mIn[31], line 1\u001B[0m\n\u001B[0;32m----> 1\u001B[0m \u001B[38;5;28;01mimport\u001B[39;00m \u001B[38;5;21;01mnumpy\u001B[39;00m \u001B[38;5;28;01mas\u001B[39;00m \u001B[38;5;21;01mnp\u001B[39;00m\n\u001B[1;32m      2\u001B[0m \u001B[38;5;28;01mimport\u001B[39;00m \u001B[38;5;21;01mitertools\u001B[39;00m\n\u001B[1;32m      4\u001B[0m \u001B[38;5;28;01mdef\u001B[39;00m \u001B[38;5;21mrandom_matrix\u001B[39m(dim):\n",
      "\u001B[0;31mModuleNotFoundError\u001B[0m: No module named 'numpy'"
     ]
    }
   ],
   "execution_count": 31
  }
 ],
 "metadata": {
  "colab": {
   "collapsed_sections": [],
   "name": "Practice_7_KM-01_.ipynb",
   "provenance": []
  },
  "kernelspec": {
   "display_name": "Python 3.10.2 64-bit",
   "language": "python",
   "name": "python3"
  },
  "language_info": {
   "codemirror_mode": {
    "name": "ipython",
    "version": 3
   },
   "file_extension": ".py",
   "mimetype": "text/x-python",
   "name": "python",
   "nbconvert_exporter": "python",
   "pygments_lexer": "ipython3",
   "version": "3.10.2"
  },
  "vscode": {
   "interpreter": {
    "hash": "26de051ba29f2982a8de78e945f0abaf191376122a1563185a90213a26c5da77"
   }
  }
 },
 "nbformat": 4,
 "nbformat_minor": 0
}
