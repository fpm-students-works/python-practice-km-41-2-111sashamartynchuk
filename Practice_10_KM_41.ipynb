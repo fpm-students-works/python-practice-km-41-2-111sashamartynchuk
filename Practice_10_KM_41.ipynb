{
 "cells": [
  {
   "cell_type": "markdown",
   "metadata": {
    "id": "FMqboNwO4rVs"
   },
   "source": [
    "# **Курс \"Програмування на мові Python\"**"
   ]
  },
  {
   "cell_type": "markdown",
   "metadata": {
    "id": "A2T6MigL5Z06"
   },
   "source": [
    "## **Практичне зайняття №10**\n",
    "\n",
    "### Тема: \"Лямбда-функції. Функції вищих порядків\""
   ]
  },
  {
   "cell_type": "markdown",
   "metadata": {
    "id": "cfCdgK2zXm7e"
   },
   "source": [
    "### **Завдання 1 (1 бал)**\n",
    "\n",
    "Керівництво будівельної компанії вирішило підняти заробітні плати всім своїм працівникам на 30%. В залежності від спеціалізації та стажу працівники мають різну заробітну плату. Для підготовки звіту необхідно розрахувати нову заробітну плату для працівників компанії, а також суму індексації.\n",
    "\n",
    "Написати програму, яка буде генерувати таблицю для цього звіту. Початкова заробітна плата працівників подана у списку salary_list (у тисячах гривень). \n",
    "\n",
    "1. Для підрахунку невідомих значень повинні використовуватись вбудовані функції вищих порядків.\n",
    "\n",
    "2. Зарплата після індексації та сума індексації для працівників різних категорій повинні зберігатись у двох окремих списках. Порядок значень у кожному з нових списків повинен відповідати порядку значень у списку salary_list.\n",
    "\n",
    "3. Кожне підраховане числове значення має бути округлене до сотих.\n",
    "\n",
    "4. Дані повинні виводитись у вигляді:\n",
    "\n",
    "**Salary table:**\n",
    "\n",
    "**6.4 8.32 1.92**\n",
    "\n",
    "**9.35 12.16 2.81**\n",
    "\n",
    "**...**\n",
    "\n",
    "salary_list = [6.4, 9.35, 11.4, 14, 23.8, 28.15, 34.7]"
   ]
  },
  {
   "cell_type": "code",
   "execution_count": null,
   "metadata": {
    "id": "ifNX2M7LXm7f"
   },
   "outputs": [],
   "source": [
    "import numpy as np\n",
    "salary_list = [6.4, 9.35, 11.4, 14, 23.8, 28.15, 34.7]\n",
    "index = 0.30\n",
    "\n",
    "def calculate_new_salary(salary, index):\n",
    "    return round(salary * (1 + index), 2)\n",
    "\n",
    "def calculate_indexed(salary, index):\n",
    "    return round(salary * index, 2)\n",
    "\n",
    "new_salaries = list(map(lambda x: calculate_new_salary(x, index), salary_list))\n",
    "index_amounts = list(map(lambda x: calculate_indexed(x, index), salary_list))\n",
    "print(\"Salary table:\")\n",
    "for original, new, index_amt in zip(salary_list, new_salaries, index_amounts):\n",
    "    print(f\"{original} {new} {index_amt}\")\n",
    "\n"
   ]
  },
  {
   "cell_type": "markdown",
   "metadata": {},
   "source": [
    "### **Завдання 2 (2 бали)**\n",
    "\n",
    "Зазвичай рік має 365 днів. Однак у високосні роки додається ще один день - 29 лютого. Правила визначення високосного року такі:\n",
    "\n",
    "- Будь-який рік, що ділиться на 400 - високосний.\n",
    "\n",
    "- З тих років, що залишились, будь-який рік, що ділиться на 100 - **не** високосний.\n",
    "\n",
    "- З тих років, що залишились, будь-який рік, що ділиться на 4 - високосний.\n",
    "\n",
    "- Усі інші роки, що залишились - **не** високосні.\n",
    "\n",
    "1) Створіть функцію, в якій за допомогою вбудованих функцій вищих порядків будуть визначатися високосні роки серед перелічених років у списку years. Створена функція має повертати список високосних років.\n",
    "\n",
    "2) Створіть функцію вищих порядків, яка прийматиме на вхід попередню функцію та визначатиме кількість днів у місяці. Також функція повинна приймати на вхід ще 2 параметри: ціле число від 1 до 12 (місяць) та рік, як ціле чотирицифрове число. Ці значення корисувач має вводити з клавіатури. Перевірку введених даних слід виконувати поза межами функцій."
   ]
  },
  {
   "cell_type": "code",
   "metadata": {
    "ExecuteTime": {
     "end_time": "2024-11-12T11:53:21.308408Z",
     "start_time": "2024-11-12T11:53:21.192620Z"
    }
   },
   "source": [
    "import numpy as np\n",
    "\n",
    "years = np.arange(1900, 2020+1, 1)\n",
    "\n",
    "def is_leap_year(year):\n",
    "    if year % 400 == 0:\n",
    "        return True\n",
    "    elif year % 100 == 0:\n",
    "        return False\n",
    "    elif year % 4 == 0:\n",
    "        return True\n",
    "    else:\n",
    "        return False\n",
    "\n",
    "def get_leap_years(years):\n",
    "    return list(filter(is_leap_year, years))\n",
    "\n",
    "def days_in_month(leap_years_func, month, year):\n",
    "    if month == 2:\n",
    "        if year in leap_years_func:\n",
    "            return 29  \n",
    "        else:\n",
    "            return 28  \n",
    "    elif month in [4, 6, 9, 11]:\n",
    "        return 30  \n",
    "    else:\n",
    "        return 31 \n",
    "\n",
    "\n",
    "\n",
    "\n",
    "\n",
    "\n",
    "def main():\n",
    "    leap_years = get_leap_years(years)\n",
    "    month = int(input(\"Введіть номер місяця (від 1 до 12): \"))\n",
    "    year = int(input(\"Введіть рік: \"))\n",
    "    days = days_in_month(leap_years, month, year)\n",
    "    print(f\"Кількість днів у місяці {month} року {year}: {days}\")\n",
    "\n",
    "\n",
    "if __name__ == \"__main__\":\n",
    "    main()\n"
   ],
   "outputs": [
    {
     "ename": "ModuleNotFoundError",
     "evalue": "No module named 'numpy'",
     "output_type": "error",
     "traceback": [
      "\u001B[0;31m---------------------------------------------------------------------------\u001B[0m",
      "\u001B[0;31mModuleNotFoundError\u001B[0m                       Traceback (most recent call last)",
      "Cell \u001B[0;32mIn[1], line 1\u001B[0m\n\u001B[0;32m----> 1\u001B[0m \u001B[38;5;28;01mimport\u001B[39;00m \u001B[38;5;21;01mnumpy\u001B[39;00m \u001B[38;5;28;01mas\u001B[39;00m \u001B[38;5;21;01mnp\u001B[39;00m\n\u001B[1;32m      3\u001B[0m years \u001B[38;5;241m=\u001B[39m np\u001B[38;5;241m.\u001B[39marange(\u001B[38;5;241m1900\u001B[39m, \u001B[38;5;241m2020\u001B[39m\u001B[38;5;241m+\u001B[39m\u001B[38;5;241m1\u001B[39m, \u001B[38;5;241m1\u001B[39m)\n",
      "\u001B[0;31mModuleNotFoundError\u001B[0m: No module named 'numpy'"
     ]
    }
   ],
   "execution_count": 1
  }
 ],
 "metadata": {
  "colab": {
   "collapsed_sections": [],
   "name": "Practice_7_KM-01_.ipynb",
   "provenance": []
  },
  "kernelspec": {
   "display_name": "Python 3 (ipykernel)",
   "name": "python3",
   "language": "python"
  }
 },
 "nbformat": 4,
 "nbformat_minor": 0
}
